{
 "cells": [
  {
   "cell_type": "markdown",
   "metadata": {},
   "source": [
    "# Telco Churn Prediction\n",
    "This notebook uses a dataset from Telco detailing various data about its consumers, and ultimately whether they left for another provider or not. I use pandas to manipulate the data, and use sklearn to create a random forest classifier about whether a user will churn or not with about 80% accuracy. I then set the default threshold higher than normal to shift the model in favor of precision at the cost of recall, as there are limited resources to deal with customers likely to churn. Thus, taking a smaller sample of higher likelyhood churn customers is beneficial here.\n",
    "## Dependencies\n",
    "Link to Data:\n",
    "\n",
    "Pandas\n",
    "\n",
    "Numpy\n",
    "\n",
    "Matplotlib\n",
    "\n",
    "Seaborn\n",
    "\n",
    "Scikit-Learn\n",
    "## Author\n",
    "Scott Little\n",
    "\n",
    "Github: https://github.com/ScottMoffatLittle/TelcoChurnPrediction.git\n",
    "\n",
    "Email: sml029@bucknell.edu\n",
    "\n",
    "June 7, 2019"
   ]
  },
  {
   "cell_type": "markdown",
   "metadata": {},
   "source": [
    "## Read In Data"
   ]
  },
  {
   "cell_type": "code",
   "execution_count": 1,
   "metadata": {},
   "outputs": [],
   "source": [
    "import pandas as pd\n",
    "import numpy as np\n",
    "import matplotlib.pyplot as plt\n",
    "import seaborn as sns\n",
    "import random\n",
    "from sklearn.metrics import *\n",
    "from sklearn.ensemble import RandomForestClassifier\n",
    "from sklearn.model_selection import train_test_split\n",
    "from sklearn.preprocessing import LabelEncoder\n",
    "\n",
    "%matplotlib inline"
   ]
  },
  {
   "cell_type": "code",
   "execution_count": 2,
   "metadata": {
    "scrolled": false
   },
   "outputs": [
    {
     "data": {
      "text/html": [
       "<div>\n",
       "<style scoped>\n",
       "    .dataframe tbody tr th:only-of-type {\n",
       "        vertical-align: middle;\n",
       "    }\n",
       "\n",
       "    .dataframe tbody tr th {\n",
       "        vertical-align: top;\n",
       "    }\n",
       "\n",
       "    .dataframe thead th {\n",
       "        text-align: right;\n",
       "    }\n",
       "</style>\n",
       "<table border=\"1\" class=\"dataframe\">\n",
       "  <thead>\n",
       "    <tr style=\"text-align: right;\">\n",
       "      <th></th>\n",
       "      <th>customerID</th>\n",
       "      <th>gender</th>\n",
       "      <th>SeniorCitizen</th>\n",
       "      <th>Partner</th>\n",
       "      <th>Dependents</th>\n",
       "      <th>tenure</th>\n",
       "      <th>PhoneService</th>\n",
       "      <th>MultipleLines</th>\n",
       "      <th>InternetService</th>\n",
       "      <th>OnlineSecurity</th>\n",
       "      <th>...</th>\n",
       "      <th>DeviceProtection</th>\n",
       "      <th>TechSupport</th>\n",
       "      <th>StreamingTV</th>\n",
       "      <th>StreamingMovies</th>\n",
       "      <th>Contract</th>\n",
       "      <th>PaperlessBilling</th>\n",
       "      <th>PaymentMethod</th>\n",
       "      <th>MonthlyCharges</th>\n",
       "      <th>TotalCharges</th>\n",
       "      <th>Churn</th>\n",
       "    </tr>\n",
       "  </thead>\n",
       "  <tbody>\n",
       "    <tr>\n",
       "      <th>0</th>\n",
       "      <td>7590-VHVEG</td>\n",
       "      <td>Female</td>\n",
       "      <td>0</td>\n",
       "      <td>Yes</td>\n",
       "      <td>No</td>\n",
       "      <td>1</td>\n",
       "      <td>No</td>\n",
       "      <td>No phone service</td>\n",
       "      <td>DSL</td>\n",
       "      <td>No</td>\n",
       "      <td>...</td>\n",
       "      <td>No</td>\n",
       "      <td>No</td>\n",
       "      <td>No</td>\n",
       "      <td>No</td>\n",
       "      <td>Month-to-month</td>\n",
       "      <td>Yes</td>\n",
       "      <td>Electronic check</td>\n",
       "      <td>29.85</td>\n",
       "      <td>29.85</td>\n",
       "      <td>No</td>\n",
       "    </tr>\n",
       "    <tr>\n",
       "      <th>1</th>\n",
       "      <td>5575-GNVDE</td>\n",
       "      <td>Male</td>\n",
       "      <td>0</td>\n",
       "      <td>No</td>\n",
       "      <td>No</td>\n",
       "      <td>34</td>\n",
       "      <td>Yes</td>\n",
       "      <td>No</td>\n",
       "      <td>DSL</td>\n",
       "      <td>Yes</td>\n",
       "      <td>...</td>\n",
       "      <td>Yes</td>\n",
       "      <td>No</td>\n",
       "      <td>No</td>\n",
       "      <td>No</td>\n",
       "      <td>One year</td>\n",
       "      <td>No</td>\n",
       "      <td>Mailed check</td>\n",
       "      <td>56.95</td>\n",
       "      <td>1889.5</td>\n",
       "      <td>No</td>\n",
       "    </tr>\n",
       "    <tr>\n",
       "      <th>2</th>\n",
       "      <td>3668-QPYBK</td>\n",
       "      <td>Male</td>\n",
       "      <td>0</td>\n",
       "      <td>No</td>\n",
       "      <td>No</td>\n",
       "      <td>2</td>\n",
       "      <td>Yes</td>\n",
       "      <td>No</td>\n",
       "      <td>DSL</td>\n",
       "      <td>Yes</td>\n",
       "      <td>...</td>\n",
       "      <td>No</td>\n",
       "      <td>No</td>\n",
       "      <td>No</td>\n",
       "      <td>No</td>\n",
       "      <td>Month-to-month</td>\n",
       "      <td>Yes</td>\n",
       "      <td>Mailed check</td>\n",
       "      <td>53.85</td>\n",
       "      <td>108.15</td>\n",
       "      <td>Yes</td>\n",
       "    </tr>\n",
       "    <tr>\n",
       "      <th>3</th>\n",
       "      <td>7795-CFOCW</td>\n",
       "      <td>Male</td>\n",
       "      <td>0</td>\n",
       "      <td>No</td>\n",
       "      <td>No</td>\n",
       "      <td>45</td>\n",
       "      <td>No</td>\n",
       "      <td>No phone service</td>\n",
       "      <td>DSL</td>\n",
       "      <td>Yes</td>\n",
       "      <td>...</td>\n",
       "      <td>Yes</td>\n",
       "      <td>Yes</td>\n",
       "      <td>No</td>\n",
       "      <td>No</td>\n",
       "      <td>One year</td>\n",
       "      <td>No</td>\n",
       "      <td>Bank transfer (automatic)</td>\n",
       "      <td>42.30</td>\n",
       "      <td>1840.75</td>\n",
       "      <td>No</td>\n",
       "    </tr>\n",
       "    <tr>\n",
       "      <th>4</th>\n",
       "      <td>9237-HQITU</td>\n",
       "      <td>Female</td>\n",
       "      <td>0</td>\n",
       "      <td>No</td>\n",
       "      <td>No</td>\n",
       "      <td>2</td>\n",
       "      <td>Yes</td>\n",
       "      <td>No</td>\n",
       "      <td>Fiber optic</td>\n",
       "      <td>No</td>\n",
       "      <td>...</td>\n",
       "      <td>No</td>\n",
       "      <td>No</td>\n",
       "      <td>No</td>\n",
       "      <td>No</td>\n",
       "      <td>Month-to-month</td>\n",
       "      <td>Yes</td>\n",
       "      <td>Electronic check</td>\n",
       "      <td>70.70</td>\n",
       "      <td>151.65</td>\n",
       "      <td>Yes</td>\n",
       "    </tr>\n",
       "  </tbody>\n",
       "</table>\n",
       "<p>5 rows × 21 columns</p>\n",
       "</div>"
      ],
      "text/plain": [
       "   customerID  gender  SeniorCitizen Partner Dependents  tenure PhoneService  \\\n",
       "0  7590-VHVEG  Female              0     Yes         No       1           No   \n",
       "1  5575-GNVDE    Male              0      No         No      34          Yes   \n",
       "2  3668-QPYBK    Male              0      No         No       2          Yes   \n",
       "3  7795-CFOCW    Male              0      No         No      45           No   \n",
       "4  9237-HQITU  Female              0      No         No       2          Yes   \n",
       "\n",
       "      MultipleLines InternetService OnlineSecurity  ... DeviceProtection  \\\n",
       "0  No phone service             DSL             No  ...               No   \n",
       "1                No             DSL            Yes  ...              Yes   \n",
       "2                No             DSL            Yes  ...               No   \n",
       "3  No phone service             DSL            Yes  ...              Yes   \n",
       "4                No     Fiber optic             No  ...               No   \n",
       "\n",
       "  TechSupport StreamingTV StreamingMovies        Contract PaperlessBilling  \\\n",
       "0          No          No              No  Month-to-month              Yes   \n",
       "1          No          No              No        One year               No   \n",
       "2          No          No              No  Month-to-month              Yes   \n",
       "3         Yes          No              No        One year               No   \n",
       "4          No          No              No  Month-to-month              Yes   \n",
       "\n",
       "               PaymentMethod MonthlyCharges  TotalCharges Churn  \n",
       "0           Electronic check          29.85         29.85    No  \n",
       "1               Mailed check          56.95        1889.5    No  \n",
       "2               Mailed check          53.85        108.15   Yes  \n",
       "3  Bank transfer (automatic)          42.30       1840.75    No  \n",
       "4           Electronic check          70.70        151.65   Yes  \n",
       "\n",
       "[5 rows x 21 columns]"
      ]
     },
     "execution_count": 2,
     "metadata": {},
     "output_type": "execute_result"
    }
   ],
   "source": [
    "df = pd.read_csv('./data_cust_churn.csv')\n",
    "df.head()"
   ]
  },
  {
   "cell_type": "markdown",
   "metadata": {},
   "source": [
    "## Format and Scale Data"
   ]
  },
  {
   "cell_type": "code",
   "execution_count": 3,
   "metadata": {
    "scrolled": true
   },
   "outputs": [
    {
     "data": {
      "text/html": [
       "<div>\n",
       "<style scoped>\n",
       "    .dataframe tbody tr th:only-of-type {\n",
       "        vertical-align: middle;\n",
       "    }\n",
       "\n",
       "    .dataframe tbody tr th {\n",
       "        vertical-align: top;\n",
       "    }\n",
       "\n",
       "    .dataframe thead th {\n",
       "        text-align: right;\n",
       "    }\n",
       "</style>\n",
       "<table border=\"1\" class=\"dataframe\">\n",
       "  <thead>\n",
       "    <tr style=\"text-align: right;\">\n",
       "      <th></th>\n",
       "      <th>gender</th>\n",
       "      <th>SeniorCitizen</th>\n",
       "      <th>Partner</th>\n",
       "      <th>Dependents</th>\n",
       "      <th>tenure</th>\n",
       "      <th>PhoneService</th>\n",
       "      <th>MultipleLines</th>\n",
       "      <th>InternetService</th>\n",
       "      <th>OnlineSecurity</th>\n",
       "      <th>OnlineBackup</th>\n",
       "      <th>...</th>\n",
       "      <th>TotBinned_low</th>\n",
       "      <th>TotBinned_low/med</th>\n",
       "      <th>TotBinned_medium</th>\n",
       "      <th>TotBinned_med/high</th>\n",
       "      <th>TotBinned_high</th>\n",
       "      <th>MonBinned_low</th>\n",
       "      <th>MonBinned_low/med</th>\n",
       "      <th>MonBinned_medium</th>\n",
       "      <th>MonBinned_med/high</th>\n",
       "      <th>MonBinned_high</th>\n",
       "    </tr>\n",
       "  </thead>\n",
       "  <tbody>\n",
       "    <tr>\n",
       "      <th>0</th>\n",
       "      <td>0</td>\n",
       "      <td>0</td>\n",
       "      <td>1</td>\n",
       "      <td>0</td>\n",
       "      <td>1</td>\n",
       "      <td>0</td>\n",
       "      <td>1</td>\n",
       "      <td>0</td>\n",
       "      <td>0</td>\n",
       "      <td>2</td>\n",
       "      <td>...</td>\n",
       "      <td>1</td>\n",
       "      <td>0</td>\n",
       "      <td>0</td>\n",
       "      <td>0</td>\n",
       "      <td>0</td>\n",
       "      <td>1</td>\n",
       "      <td>0</td>\n",
       "      <td>0</td>\n",
       "      <td>0</td>\n",
       "      <td>0</td>\n",
       "    </tr>\n",
       "    <tr>\n",
       "      <th>1</th>\n",
       "      <td>1</td>\n",
       "      <td>0</td>\n",
       "      <td>0</td>\n",
       "      <td>0</td>\n",
       "      <td>34</td>\n",
       "      <td>1</td>\n",
       "      <td>0</td>\n",
       "      <td>0</td>\n",
       "      <td>2</td>\n",
       "      <td>0</td>\n",
       "      <td>...</td>\n",
       "      <td>0</td>\n",
       "      <td>0</td>\n",
       "      <td>0</td>\n",
       "      <td>1</td>\n",
       "      <td>0</td>\n",
       "      <td>0</td>\n",
       "      <td>0</td>\n",
       "      <td>0</td>\n",
       "      <td>1</td>\n",
       "      <td>0</td>\n",
       "    </tr>\n",
       "    <tr>\n",
       "      <th>2</th>\n",
       "      <td>1</td>\n",
       "      <td>0</td>\n",
       "      <td>0</td>\n",
       "      <td>0</td>\n",
       "      <td>2</td>\n",
       "      <td>1</td>\n",
       "      <td>0</td>\n",
       "      <td>0</td>\n",
       "      <td>2</td>\n",
       "      <td>2</td>\n",
       "      <td>...</td>\n",
       "      <td>0</td>\n",
       "      <td>1</td>\n",
       "      <td>0</td>\n",
       "      <td>0</td>\n",
       "      <td>0</td>\n",
       "      <td>0</td>\n",
       "      <td>1</td>\n",
       "      <td>0</td>\n",
       "      <td>0</td>\n",
       "      <td>0</td>\n",
       "    </tr>\n",
       "    <tr>\n",
       "      <th>3</th>\n",
       "      <td>1</td>\n",
       "      <td>0</td>\n",
       "      <td>0</td>\n",
       "      <td>0</td>\n",
       "      <td>45</td>\n",
       "      <td>0</td>\n",
       "      <td>1</td>\n",
       "      <td>0</td>\n",
       "      <td>2</td>\n",
       "      <td>0</td>\n",
       "      <td>...</td>\n",
       "      <td>0</td>\n",
       "      <td>0</td>\n",
       "      <td>0</td>\n",
       "      <td>1</td>\n",
       "      <td>0</td>\n",
       "      <td>0</td>\n",
       "      <td>0</td>\n",
       "      <td>0</td>\n",
       "      <td>1</td>\n",
       "      <td>0</td>\n",
       "    </tr>\n",
       "    <tr>\n",
       "      <th>4</th>\n",
       "      <td>0</td>\n",
       "      <td>0</td>\n",
       "      <td>0</td>\n",
       "      <td>0</td>\n",
       "      <td>2</td>\n",
       "      <td>1</td>\n",
       "      <td>0</td>\n",
       "      <td>1</td>\n",
       "      <td>0</td>\n",
       "      <td>0</td>\n",
       "      <td>...</td>\n",
       "      <td>0</td>\n",
       "      <td>1</td>\n",
       "      <td>0</td>\n",
       "      <td>0</td>\n",
       "      <td>0</td>\n",
       "      <td>0</td>\n",
       "      <td>1</td>\n",
       "      <td>0</td>\n",
       "      <td>0</td>\n",
       "      <td>0</td>\n",
       "    </tr>\n",
       "  </tbody>\n",
       "</table>\n",
       "<p>5 rows × 30 columns</p>\n",
       "</div>"
      ],
      "text/plain": [
       "   gender  SeniorCitizen  Partner  Dependents  tenure  PhoneService  \\\n",
       "0       0              0        1           0       1             0   \n",
       "1       1              0        0           0      34             1   \n",
       "2       1              0        0           0       2             1   \n",
       "3       1              0        0           0      45             0   \n",
       "4       0              0        0           0       2             1   \n",
       "\n",
       "   MultipleLines  InternetService  OnlineSecurity  OnlineBackup  ...  \\\n",
       "0              1                0               0             2  ...   \n",
       "1              0                0               2             0  ...   \n",
       "2              0                0               2             2  ...   \n",
       "3              1                0               2             0  ...   \n",
       "4              0                1               0             0  ...   \n",
       "\n",
       "   TotBinned_low  TotBinned_low/med  TotBinned_medium  TotBinned_med/high  \\\n",
       "0              1                  0                 0                   0   \n",
       "1              0                  0                 0                   1   \n",
       "2              0                  1                 0                   0   \n",
       "3              0                  0                 0                   1   \n",
       "4              0                  1                 0                   0   \n",
       "\n",
       "   TotBinned_high  MonBinned_low  MonBinned_low/med  MonBinned_medium  \\\n",
       "0               0              1                  0                 0   \n",
       "1               0              0                  0                 0   \n",
       "2               0              0                  1                 0   \n",
       "3               0              0                  0                 0   \n",
       "4               0              0                  1                 0   \n",
       "\n",
       "   MonBinned_med/high  MonBinned_high  \n",
       "0                   0               0  \n",
       "1                   1               0  \n",
       "2                   0               0  \n",
       "3                   1               0  \n",
       "4                   0               0  \n",
       "\n",
       "[5 rows x 30 columns]"
      ]
     },
     "execution_count": 3,
     "metadata": {},
     "output_type": "execute_result"
    }
   ],
   "source": [
    "#Drop Customer ID, does not correlate\n",
    "df = df.drop('customerID', axis=1)\n",
    "\n",
    "#Encode categorial variables\n",
    "lbe = LabelEncoder()\n",
    "cols_to_transform = ['gender', 'Partner', 'Dependents', 'PhoneService', 'MultipleLines', 'InternetService',\\\n",
    "                    'OnlineSecurity', 'OnlineBackup', 'DeviceProtection', 'TechSupport', 'StreamingTV',\\\n",
    "                     'StreamingMovies', 'Contract', 'PaperlessBilling', 'PaymentMethod', 'Churn'] \n",
    "for i in cols_to_transform:\n",
    "    df[i] = lbe.fit_transform(df[i])\n",
    "\n",
    "#substitute missing values in dataframe with nan\n",
    "df = df.replace(r'^\\s+$', np.nan, regex=True)\n",
    "\n",
    "MEAN_CHARGE = 1000\n",
    "#fill nan values in TotalCharges with 1000, about the average total charge\n",
    "df['TotalCharges'] = df['TotalCharges'].fillna(MEAN_CHARGE)\n",
    "\n",
    "#Scale total and monthly charges logorithmically to reign in outliers\n",
    "df['MonthlyCharges'] = df['MonthlyCharges'].apply(np.log)\n",
    "df['TotalCharges'] = df['TotalCharges'].astype(float).apply(np.log)\n",
    "\n",
    "#Bin the most important features: TotalCharges and MonthlyCharges\n",
    "labels = [\"low\", \"low/med\", \"medium\", \"med/high\", \"high\"]\n",
    "df['TotBinned'] = pd.cut(df['TotalCharges'], bins=5, labels=labels)\n",
    "df['MonBinned'] = pd.cut(df['TotalCharges'], bins=5, labels=labels)\n",
    "\n",
    "#Apply One Hot Encoding to the binned columns\n",
    "df = pd.get_dummies(df, columns=['TotBinned', 'MonBinned'])\n",
    "\n",
    "df.head()"
   ]
  },
  {
   "cell_type": "markdown",
   "metadata": {},
   "source": [
    "## Create Benchmark"
   ]
  },
  {
   "cell_type": "code",
   "execution_count": 4,
   "metadata": {},
   "outputs": [
    {
     "name": "stdout",
     "output_type": "stream",
     "text": [
      "accuracy: 0.5081641346017323\n"
     ]
    }
   ],
   "source": [
    "#Create random guess benchmark, based on overall churn rate of 0.2618\n",
    "correct = 0\n",
    "incorrect = 0\n",
    "churn = 0\n",
    "guess = 0\n",
    "for index, row in df.iterrows():\n",
    "    churn = int(row['Churn'])\n",
    "    r = random.randint(0, 1)\n",
    "    if r < 0.2618:\n",
    "        guess = 0\n",
    "    else:\n",
    "        guess = 1\n",
    "    if churn == guess:\n",
    "        correct += 1\n",
    "    else:\n",
    "        incorrect += 1\n",
    "print('accuracy: ' + str(correct / (correct + incorrect)))"
   ]
  },
  {
   "cell_type": "markdown",
   "metadata": {},
   "source": [
    "## Create Model"
   ]
  },
  {
   "cell_type": "code",
   "execution_count": 5,
   "metadata": {},
   "outputs": [],
   "source": [
    "#Split the dataset into a train and test set\n",
    "X = df.drop('Churn', axis=1)\n",
    "Y = df['Churn']\n",
    "\n",
    "X_train, X_test, y_train, y_test = train_test_split(X, Y, random_state=1)"
   ]
  },
  {
   "cell_type": "code",
   "execution_count": 6,
   "metadata": {},
   "outputs": [],
   "source": [
    "#Random Forest Model - fit model and predict on test data\n",
    "\n",
    "random_forest = RandomForestClassifier(n_estimators=100)\n",
    "model = random_forest.fit(X_train, y_train)\n",
    "y_model = random_forest.predict(X_test)\n"
   ]
  },
  {
   "cell_type": "markdown",
   "metadata": {},
   "source": [
    "## Model Statistics"
   ]
  },
  {
   "cell_type": "code",
   "execution_count": 7,
   "metadata": {},
   "outputs": [
    {
     "name": "stdout",
     "output_type": "stream",
     "text": [
      "accuracy: 0.8023850085178875\n"
     ]
    }
   ],
   "source": [
    "#Get accuracy of model\n",
    "print('accuracy: ' + str(accuracy_score(y_test, y_model)))"
   ]
  },
  {
   "cell_type": "code",
   "execution_count": 8,
   "metadata": {
    "scrolled": true
   },
   "outputs": [
    {
     "name": "stdout",
     "output_type": "stream",
     "text": [
      "              precision    recall  f1-score   support\n",
      "\n",
      "           0       0.85      0.90      0.87      1327\n",
      "           1       0.62      0.52      0.56       434\n",
      "\n",
      "    accuracy                           0.80      1761\n",
      "   macro avg       0.73      0.71      0.72      1761\n",
      "weighted avg       0.79      0.80      0.80      1761\n",
      "\n"
     ]
    }
   ],
   "source": [
    "#Show the precision, recall, f1-score, and support of the model\n",
    "print(classification_report(y_test, y_model))"
   ]
  },
  {
   "cell_type": "code",
   "execution_count": 9,
   "metadata": {},
   "outputs": [],
   "source": [
    "#Create graph of precision vs recall to help place the threshold in the correct spot to tune the model.\n",
    "def plot_precision_recall_vs_threshold(precisions, recalls, thresholds):\n",
    "    \"\"\"\n",
    "    Modified from:\n",
    "    Hands-On Machine learning with Scikit-Learn\n",
    "    and TensorFlow; p.89\n",
    "    \"\"\"\n",
    "    plt.figure(figsize=(8, 8))\n",
    "    plt.title(\"Precision and Recall Scores as a function of the decision threshold\")\n",
    "    plt.plot(thresholds, precisions[:-1], \"b--\", label=\"Precision\")\n",
    "    plt.plot(thresholds, recalls[:-1], \"g-\", label=\"Recall\")\n",
    "    plt.ylabel(\"Score\")\n",
    "    plt.xlabel(\"Decision Threshold\")\n",
    "    plt.legend(loc='best')"
   ]
  },
  {
   "cell_type": "code",
   "execution_count": 10,
   "metadata": {
    "scrolled": false
   },
   "outputs": [
    {
     "data": {
      "image/png": "[encoded data removed]",
      "text/plain": [
       "<Figure size 576x576 with 1 Axes>"
      ]
     },
     "metadata": {
      "needs_background": "light"
     },
     "output_type": "display_data"
    }
   ],
   "source": [
    "p, r, thresholds = precision_recall_curve(y_test, y_model)\n",
    "plot_precision_recall_vs_threshold(p, r, thresholds)"
   ]
  },
  {
   "cell_type": "markdown",
   "metadata": {},
   "source": [
    "## Improving The Model\n",
    "Shift the default threshold right (to 0.58 from 0.5) so that the model is more precise, with lower recall. This means that on average, two thirds of selected customers would have churned, and 44 percent of total customers who will churn are selected"
   ]
  },
  {
   "cell_type": "code",
   "execution_count": 11,
   "metadata": {
    "scrolled": false
   },
   "outputs": [
    {
     "name": "stdout",
     "output_type": "stream",
     "text": [
      "              precision    recall  f1-score   support\n",
      "\n",
      "           0       0.83      0.92      0.87      1327\n",
      "           1       0.64      0.43      0.51       434\n",
      "\n",
      "    accuracy                           0.80      1761\n",
      "   macro avg       0.74      0.67      0.69      1761\n",
      "weighted avg       0.78      0.80      0.78      1761\n",
      "\n"
     ]
    }
   ],
   "source": [
    "y_model = (model.predict_proba(X_test)[:,1] >= 0.58).astype(bool)\n",
    "print(classification_report(y_test, y_model))"
   ]
  },
  {
   "cell_type": "markdown",
   "metadata": {},
   "source": [
    "## Model Analytics"
   ]
  },
  {
   "cell_type": "code",
   "execution_count": 12,
   "metadata": {},
   "outputs": [
    {
     "name": "stdout",
     "output_type": "stream",
     "text": [
      "accuracy: 0.7995457126632595\n"
     ]
    }
   ],
   "source": [
    "# Accuracy of new model - slightly higher than the previous one\n",
    "print('accuracy: ' + str(accuracy_score(y_test, y_model)))"
   ]
  },
  {
   "cell_type": "code",
   "execution_count": 13,
   "metadata": {},
   "outputs": [],
   "source": [
    "#Print the features that contributed to the model most, in order\n",
    "#TotalCharges, MonthlyCharges were by far the largest contributors.\n",
    "#This makes sense, because if people are paying a lot, they are likely to leave for a cheaper contract.\n",
    "#Tenure as the third largest contributor makes sense as well as \n",
    "#If they have been with Teleco for a long time they are more likely to stay\n",
    "features = list(df.columns.values)\n",
    "importances = model.feature_importances_\n",
    "feature_importances = dict(zip(features, importances))\n",
    "sorted_features = sorted(feature_importances, key=feature_importances.get, reverse = True)\n",
    "sorted_importances = sorted(importances, reverse=True)"
   ]
  },
  {
   "cell_type": "code",
   "execution_count": 14,
   "metadata": {},
   "outputs": [
    {
     "data": {
      "image/png": "[encoded data removed]",
      "text/plain": [
       "<Figure size 1152x504 with 1 Axes>"
      ]
     },
     "metadata": {
      "needs_background": "light"
     },
     "output_type": "display_data"
    }
   ],
   "source": [
    "#Show the most important features graphically\n",
    "x_pos = [i for i, _ in enumerate(sorted_features[:10])]\n",
    "\n",
    "plt.figure(figsize=(16,7))\n",
    "font = {'family' : 'DejaVu Sans',\n",
    "        'weight' : 'normal',\n",
    "        'size'   : 10}\n",
    "\n",
    "plt.rc('font', **font)\n",
    "plt.bar(x_pos, sorted_importances[:10], color='red')\n",
    "plt.xlabel(\"Features\")\n",
    "plt.ylabel(\"Importance\")\n",
    "plt.title(\"Importance of Model Features\")\n",
    "plt.xticks(x_pos, sorted_features[:10])\n",
    "\n",
    "plt.show()"
   ]
  },
  {
   "cell_type": "code",
   "execution_count": 15,
   "metadata": {},
   "outputs": [],
   "source": [
    "def churn_analysis_by_feature(crosstab):\n",
    "    churn_percentages = []\n",
    "    n_rows = len(crosstab.index)\n",
    "    for row in range(n_rows):\n",
    "        percent = crosstab[1][row]/ (crosstab[0][row] + crosstab[1][row])\n",
    "        churn_percentages.append(percent)\n",
    "    return churn_percentages\n"
   ]
  },
  {
   "cell_type": "code",
   "execution_count": 16,
   "metadata": {},
   "outputs": [],
   "source": [
    "def show_feature_analysis(stats, labels, xlabel, ylabel, title):\n",
    "    index = np.arange(len(stats))\n",
    "    plt.bar(index, stats)\n",
    "    plt.xlabel(xlabel, fontsize=12)\n",
    "    plt.ylabel(ylabel, fontsize=12)\n",
    "    plt.xticks(index, labels, fontsize=12, rotation=30)\n",
    "    plt.title(title)\n",
    "    plt.show()"
   ]
  },
  {
   "cell_type": "code",
   "execution_count": 17,
   "metadata": {
    "scrolled": true
   },
   "outputs": [],
   "source": [
    "#Number of customers that churn based on level of total charges\n",
    "test_df = df.copy()\n",
    "\n",
    "test_df['TotalBinned'] = pd.cut(df['TotalCharges'], bins=5, labels=labels)\n",
    "total_crosstab = pd.crosstab(test_df['TotalBinned'], test_df['Churn'])"
   ]
  },
  {
   "cell_type": "code",
   "execution_count": 18,
   "metadata": {
    "scrolled": false
   },
   "outputs": [
    {
     "data": {
      "image/png": "[encoded data removed]",
      "text/plain": [
       "<Figure size 432x288 with 1 Axes>"
      ]
     },
     "metadata": {
      "needs_background": "light"
     },
     "output_type": "display_data"
    }
   ],
   "source": [
    "#Percentage of customers that churn based on level of total charges\n",
    "percentages = churn_analysis_by_feature(total_crosstab)\n",
    "show_feature_analysis(percentages, labels, 'Total Charges', 'Percent Churn', 'Churn Percent vs Total Charges' )\n"
   ]
  },
  {
   "cell_type": "code",
   "execution_count": 19,
   "metadata": {},
   "outputs": [],
   "source": [
    "#Number of customers that churn based on level of monthly charges\n",
    "test_df['MonthlyBinned'] = pd.cut(df['MonthlyCharges'], bins=5, labels=labels)\n",
    "monthly_crosstab = pd.crosstab(test_df['MonthlyBinned'], test_df['Churn'])"
   ]
  },
  {
   "cell_type": "code",
   "execution_count": 20,
   "metadata": {
    "scrolled": true
   },
   "outputs": [
    {
     "data": {
      "image/png": "[encoded data removed]",
      "text/plain": [
       "<Figure size 432x288 with 1 Axes>"
      ]
     },
     "metadata": {
      "needs_background": "light"
     },
     "output_type": "display_data"
    }
   ],
   "source": [
    "#Percentage of customers that churn based on level of monthly charges\n",
    "percentages = churn_analysis_by_feature(monthly_crosstab)\n",
    "show_feature_analysis(percentages, labels, 'Monthly Charges', 'Percent Churn', 'Churn Percent vs Monthly Charges' )"
   ]
  },
  {
   "cell_type": "code",
   "execution_count": 21,
   "metadata": {},
   "outputs": [],
   "source": [
    "#Number of customers that churn based on the length of their tenure with Telco\n",
    "test_df['TenureBinned'] = pd.cut(df['tenure'], bins=5, labels=labels)\n",
    "tenure_crosstab = pd.crosstab(test_df['TenureBinned'], test_df['Churn'])"
   ]
  },
  {
   "cell_type": "code",
   "execution_count": 22,
   "metadata": {},
   "outputs": [
    {
     "data": {
      "image/png": "[encoded data removed]",
      "text/plain": [
       "<Figure size 432x288 with 1 Axes>"
      ]
     },
     "metadata": {
      "needs_background": "light"
     },
     "output_type": "display_data"
    }
   ],
   "source": [
    "#Percentage of customers that churn based on the length of their tenure with Telco\n",
    "percentages = churn_analysis_by_feature(tenure_crosstab)\n",
    "show_feature_analysis(percentages, labels, 'Tenure', 'Percent Churn', 'Churn Percent vs Tenure' )"
   ]
  },
  {
   "cell_type": "code",
   "execution_count": 23,
   "metadata": {},
   "outputs": [],
   "source": [
    "#Number of customers that churn based on their contract type\n",
    "contract_crosstab = pd.crosstab(test_df['Contract'], test_df['Churn'])"
   ]
  },
  {
   "cell_type": "code",
   "execution_count": 24,
   "metadata": {},
   "outputs": [
    {
     "data": {
      "image/png": "[encoded data removed]",
      "text/plain": [
       "<Figure size 432x288 with 1 Axes>"
      ]
     },
     "metadata": {
      "needs_background": "light"
     },
     "output_type": "display_data"
    }
   ],
   "source": [
    "#Percentage of customers that churn based on their contract type\n",
    "percentages = churn_analysis_by_feature(contract_crosstab)\n",
    "contract_labels = ['Month-to-month', 'One year', 'Two year']\n",
    "show_feature_analysis(percentages, contract_labels, 'Contract Type', 'Percent Churn', 'Churn Percent vs Contract Type' )"
   ]
  },
  {
   "cell_type": "code",
   "execution_count": 25,
   "metadata": {},
   "outputs": [],
   "source": [
    "#Number of customers that churn based on their internet service type\n",
    "internet_crosstab = pd.crosstab(test_df['InternetService'], test_df['Churn'])"
   ]
  },
  {
   "cell_type": "code",
   "execution_count": 26,
   "metadata": {},
   "outputs": [
    {
     "data": {
      "image/png": "[encoded data removed]",
      "text/plain": [
       "<Figure size 432x288 with 1 Axes>"
      ]
     },
     "metadata": {
      "needs_background": "light"
     },
     "output_type": "display_data"
    }
   ],
   "source": [
    "#Percentage of customers that churn based on their internet service type\n",
    "percentages = churn_analysis_by_feature(internet_crosstab)\n",
    "internet_labels = ['DSL', 'Fiber Optic', 'None']\n",
    "show_feature_analysis(percentages, internet_labels, 'Internet Service', 'Percent Churn', 'Churn Percent vs Internet Service' )"
   ]
  },
  {
   "cell_type": "code",
   "execution_count": 27,
   "metadata": {},
   "outputs": [],
   "source": [
    "#Number of customers that churn based on their payment method\n",
    "pay_method_crosstab = pd.crosstab(test_df['PaymentMethod'], test_df['Churn'])"
   ]
  },
  {
   "cell_type": "code",
   "execution_count": 28,
   "metadata": {},
   "outputs": [
    {
     "data": {
      "image/png": "[encoded data removed]",
      "text/plain": [
       "<Figure size 432x288 with 1 Axes>"
      ]
     },
     "metadata": {
      "needs_background": "light"
     },
     "output_type": "display_data"
    }
   ],
   "source": [
    "#Percent of customers that churn based on their payment method\n",
    "percentages = churn_analysis_by_feature(pay_method_crosstab)\n",
    "payment_labels = ['Bank transfer (automatic)', 'Credit card (automatic)', 'Electronic check', 'Mailed check']\n",
    "show_feature_analysis(percentages, payment_labels, 'Payment Method', 'Percent Churn', 'Churn Percent vs Payment Method' )"
   ]
  },
  {
   "cell_type": "code",
   "execution_count": 29,
   "metadata": {
    "scrolled": false
   },
   "outputs": [],
   "source": [
    "#Number of customers that churn based on gender\n",
    "gender_crosstab = pd.crosstab(df['gender'], df['Churn'])"
   ]
  },
  {
   "cell_type": "code",
   "execution_count": 30,
   "metadata": {
    "scrolled": true
   },
   "outputs": [
    {
     "data": {
      "image/png": "[encoded data removed]",
      "text/plain": [
       "<Figure size 432x288 with 1 Axes>"
      ]
     },
     "metadata": {
      "needs_background": "light"
     },
     "output_type": "display_data"
    }
   ],
   "source": [
    "#percentage of customers that churn based on gender. Females Churn more than males\n",
    "percentages = churn_analysis_by_feature(gender_crosstab)\n",
    "genders = ['Male', 'Female']\n",
    "show_feature_analysis(percentages, genders, 'Gender', 'Percent Churn', 'Churn Percent vs Gender' )"
   ]
  }
 ],
 "metadata": {
  "kernelspec": {
   "display_name": "Python 3",
   "language": "python",
   "name": "python3"
  },
  "language_info": {
   "codemirror_mode": {
    "name": "ipython",
    "version": 3
   },
   "file_extension": ".py",
   "mimetype": "text/x-python",
   "name": "python",
   "nbconvert_exporter": "python",
   "pygments_lexer": "ipython3",
   "version": "3.6.8"
  }
 },
 "nbformat": 4,
 "nbformat_minor": 2
}
